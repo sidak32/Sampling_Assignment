{
  "nbformat": 4,
  "nbformat_minor": 0,
  "metadata": {
    "colab": {
      "provenance": []
    },
    "kernelspec": {
      "name": "python3",
      "display_name": "Python 3"
    },
    "language_info": {
      "name": "python"
    }
  },
  "cells": [
    {
      "cell_type": "code",
      "execution_count": 6,
      "metadata": {
        "colab": {
          "base_uri": "https://localhost:8080/",
          "height": 748
        },
        "id": "9gl3r4EOH9W_",
        "outputId": "ed7e5f07-3ad2-4e4e-83de-979fad00ca11"
      },
      "outputs": [
        {
          "output_type": "stream",
          "name": "stderr",
          "text": [
            "<ipython-input-6-57e4d3a1c48d>:58: FutureWarning: The behavior of DataFrame concatenation with empty or all-NA entries is deprecated. In a future version, this will no longer exclude empty or all-NA columns when determining the result dtypes. To retain the old behavior, exclude the relevant entries before the concat operation.\n",
            "  results_df = pd.concat([\n"
          ]
        },
        {
          "output_type": "stream",
          "name": "stdout",
          "text": [
            "Results saved to 'model_evaluation_result.csv'\n"
          ]
        },
        {
          "output_type": "stream",
          "name": "stderr",
          "text": [
            "/usr/local/lib/python3.11/dist-packages/sklearn/linear_model/_logistic.py:465: ConvergenceWarning: lbfgs failed to converge (status=1):\n",
            "STOP: TOTAL NO. of ITERATIONS REACHED LIMIT.\n",
            "\n",
            "Increase the number of iterations (max_iter) or scale the data as shown in:\n",
            "    https://scikit-learn.org/stable/modules/preprocessing.html\n",
            "Please also refer to the documentation for alternative solver options:\n",
            "    https://scikit-learn.org/stable/modules/linear_model.html#logistic-regression\n",
            "  n_iter_i = _check_optimize_result(\n"
          ]
        },
        {
          "output_type": "display_data",
          "data": {
            "text/plain": [
              "<IPython.core.display.Javascript object>"
            ],
            "application/javascript": [
              "\n",
              "    async function download(id, filename, size) {\n",
              "      if (!google.colab.kernel.accessAllowed) {\n",
              "        return;\n",
              "      }\n",
              "      const div = document.createElement('div');\n",
              "      const label = document.createElement('label');\n",
              "      label.textContent = `Downloading \"${filename}\": `;\n",
              "      div.appendChild(label);\n",
              "      const progress = document.createElement('progress');\n",
              "      progress.max = size;\n",
              "      div.appendChild(progress);\n",
              "      document.body.appendChild(div);\n",
              "\n",
              "      const buffers = [];\n",
              "      let downloaded = 0;\n",
              "\n",
              "      const channel = await google.colab.kernel.comms.open(id);\n",
              "      // Send a message to notify the kernel that we're ready.\n",
              "      channel.send({})\n",
              "\n",
              "      for await (const message of channel.messages) {\n",
              "        // Send a message to notify the kernel that we're ready.\n",
              "        channel.send({})\n",
              "        if (message.buffers) {\n",
              "          for (const buffer of message.buffers) {\n",
              "            buffers.push(buffer);\n",
              "            downloaded += buffer.byteLength;\n",
              "            progress.value = downloaded;\n",
              "          }\n",
              "        }\n",
              "      }\n",
              "      const blob = new Blob(buffers, {type: 'application/binary'});\n",
              "      const a = document.createElement('a');\n",
              "      a.href = window.URL.createObjectURL(blob);\n",
              "      a.download = filename;\n",
              "      div.appendChild(a);\n",
              "      a.click();\n",
              "      div.remove();\n",
              "    }\n",
              "  "
            ]
          },
          "metadata": {}
        },
        {
          "output_type": "display_data",
          "data": {
            "text/plain": [
              "<IPython.core.display.Javascript object>"
            ],
            "application/javascript": [
              "download(\"download_95343849-003a-49f0-863a-941015e0c929\", \"model_evaluation_result.csv\", 951)"
            ]
          },
          "metadata": {}
        },
        {
          "output_type": "stream",
          "name": "stdout",
          "text": [
            "Results for each Sampling Technique:\n",
            "     Sample           Classifier  Accuracy\n",
            "0   Sample1        Random Forest  0.951613\n",
            "1   Sample1  Logistic Regression  0.919355\n",
            "2   Sample1                  SVM  0.645161\n",
            "3   Sample1        Decision Tree  0.903226\n",
            "4   Sample1                  KNN  0.806452\n",
            "5   Sample2        Random Forest  1.000000\n",
            "6   Sample2  Logistic Regression  0.822581\n",
            "7   Sample2                  SVM  0.629032\n",
            "8   Sample2        Decision Tree  0.935484\n",
            "9   Sample2                  KNN  0.645161\n",
            "10  Sample3        Random Forest  0.983871\n",
            "11  Sample3  Logistic Regression  0.935484\n",
            "12  Sample3                  SVM  0.661290\n",
            "13  Sample3        Decision Tree  0.919355\n",
            "14  Sample3                  KNN  0.822581\n",
            "15  Sample4        Random Forest  1.000000\n",
            "16  Sample4  Logistic Regression  0.887097\n",
            "17  Sample4                  SVM  0.612903\n",
            "18  Sample4        Decision Tree  0.935484\n",
            "19  Sample4                  KNN  0.870968\n",
            "20  Sample5        Random Forest  0.967742\n",
            "21  Sample5  Logistic Regression  0.919355\n",
            "22  Sample5                  SVM  0.564516\n",
            "23  Sample5        Decision Tree  0.951613\n",
            "24  Sample5                  KNN  0.806452\n",
            "\n",
            "Best Sampling Technique for each Model:\n",
            "{'Random Forest': ('Sample2', 1.0), 'Logistic Regression': ('Sample3', 0.9354838709677419), 'SVM': ('Sample3', 0.6612903225806451), 'Decision Tree': ('Sample5', 0.9516129032258065), 'KNN': ('Sample4', 0.8709677419354839)}\n"
          ]
        }
      ],
      "source": [
        "import pandas as pd\n",
        "import numpy as np\n",
        "from sklearn.model_selection import train_test_split\n",
        "from sklearn.ensemble import RandomForestClassifier\n",
        "from sklearn.linear_model import LogisticRegression\n",
        "from sklearn.svm import SVC\n",
        "from sklearn.tree import DecisionTreeClassifier\n",
        "from sklearn.neighbors import KNeighborsClassifier\n",
        "from sklearn.metrics import accuracy_score\n",
        "from imblearn.over_sampling import SMOTE\n",
        "\n",
        "data = pd.read_csv('Creditcard_data.csv')\n",
        "\n",
        "X = data.drop('Class', axis=1)\n",
        "y = data['Class']\n",
        "\n",
        "smote = SMOTE(random_state=42)\n",
        "X_balanced, y_balanced = smote.fit_resample(X, y)\n",
        "\n",
        "def sample_size_formula(population_size, confidence_level, margin_of_error):\n",
        "    z = 1.96\n",
        "    p = 0.5\n",
        "    e = margin_of_error\n",
        "    n = (z**2 * p * (1 - p)) / (e**2)\n",
        "    n = n / (1 + ((n - 1) / population_size))\n",
        "    return int(np.ceil(n))\n",
        "\n",
        "sample_size = sample_size_formula(len(y_balanced), 0.95, 0.05)\n",
        "\n",
        "samples = []\n",
        "for i in range(5):\n",
        "    sample = X_balanced.sample(n=sample_size, random_state=42 + i)\n",
        "    samples.append((sample, y_balanced.loc[sample.index]))\n",
        "\n",
        "sampling_techniques = ['Sample1', 'Sample2', 'Sample3', 'Sample4', 'Sample5']\n",
        "models = {\n",
        "    'Random Forest': RandomForestClassifier(random_state=42),\n",
        "    'Logistic Regression': LogisticRegression(random_state=42, max_iter=1000),\n",
        "    'SVM': SVC(random_state=42),\n",
        "    'Decision Tree': DecisionTreeClassifier(random_state=42),\n",
        "    'KNN': KNeighborsClassifier()\n",
        "}\n",
        "\n",
        "def evaluate_model(model, X_train, y_train, X_test, y_test):\n",
        "    model.fit(X_train, y_train)\n",
        "    y_pred = model.predict(X_test)\n",
        "    return accuracy_score(y_test, y_pred)\n",
        "\n",
        "results_df = pd.DataFrame(columns=[\"Sample\", \"Classifier\", \"Accuracy\"])\n",
        "\n",
        "for i, (X_sample, y_sample) in enumerate(samples):\n",
        "    X_train, X_test, y_train, y_test = train_test_split(X_sample, y_sample, test_size=0.2, random_state=42)\n",
        "    for model_name, classifier in models.items():\n",
        "        classifier.fit(X_train, y_train)\n",
        "        y_pred = classifier.predict(X_test)\n",
        "        accuracy = accuracy_score(y_test, y_pred)\n",
        "\n",
        "        results_df = pd.concat([\n",
        "            results_df,\n",
        "            pd.DataFrame([{\"Sample\": sampling_techniques[i], \"Classifier\": model_name, \"Accuracy\": accuracy}])\n",
        "        ], ignore_index=True)\n",
        "\n",
        "results_df.to_csv('model_evaluation_result.csv', index=False)\n",
        "print(\"Results saved to 'model_evaluation_result.csv'\")\n",
        "\n",
        "# Optional: Download the results file (for Colab or similar environments)\n",
        "from google.colab import files\n",
        "files.download('model_evaluation_result.csv')\n",
        "\n",
        "final_results = {}\n",
        "for model_name in models.keys():\n",
        "    best_sampling = results_df[results_df[\"Classifier\"] == model_name].loc[results_df[results_df[\"Classifier\"] == model_name][\"Accuracy\"].idxmax()]\n",
        "    final_results[model_name] = (best_sampling[\"Sample\"], best_sampling[\"Accuracy\"])\n",
        "\n",
        "print(\"Results for each Sampling Technique:\")\n",
        "print(results_df)\n",
        "print(\"\\nBest Sampling Technique for each Model:\")\n",
        "print(final_results)"
      ]
    },
    {
      "cell_type": "code",
      "source": [],
      "metadata": {
        "id": "HzB4jlQGIcIW"
      },
      "execution_count": null,
      "outputs": []
    }
  ]
}